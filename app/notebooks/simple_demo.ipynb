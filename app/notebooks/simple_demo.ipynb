{
 "cells": [
  {
   "cell_type": "markdown",
   "metadata": {},
   "source": [
    "# Eyeglass Frame Style Prediction\n",
    "\n",
    "Simple demo using BGE-Large embeddings via vLLM and KNN classification."
   ]
  },
  {
   "cell_type": "markdown",
   "metadata": {},
   "source": [
    "## 1. Setup and Configuration"
   ]
  },
  {
   "cell_type": "code",
   "execution_count": 1,
   "metadata": {},
   "outputs": [],
   "source": [
    "import os\n",
    "import pandas as pd\n",
    "import numpy as np\n",
    "from sklearn.preprocessing import LabelEncoder\n",
    "from sklearn.model_selection import train_test_split\n",
    "from sklearn.neighbors import KNeighborsClassifier\n",
    "from sklearn.metrics import accuracy_score, confusion_matrix, classification_report\n",
    "import sys\n",
    "# from dotenv import load_dotenv\n",
    "import matplotlib.pyplot as plt\n",
    "import seaborn as sns\n",
    "# load_dotenv()\n",
    "sys.path.append('../utils/')\n",
    "from vllm_client import create_vllm_client, get_embeddings"
   ]
  },
  {
   "cell_type": "code",
   "execution_count": 2,
   "metadata": {},
   "outputs": [
    {
     "name": "stdout",
     "output_type": "stream",
     "text": [
      "Endpoint: https://bge-large-vsp-embedding-demo.apps.cluster-5qlcr.5qlcr.sandbox1342.opentlc.com\n",
      "Model: bge-large\n",
      "API Key: [CONFIGURED]\n"
     ]
    }
   ],
   "source": [
    "# Configuration - your vLLM details are set via environment variables\n",
    "# These are automatically configured by the workbench deployment\n",
    "\n",
    "ENDPOINT = os.getenv('ENDPOINT')\n",
    "EMBEDDING_MODEL = os.getenv('EMBEDDING_MODEL')\n",
    "API_KEY = os.getenv('API_KEY')\n",
    "\n",
    "print(f\"Endpoint: {ENDPOINT}\")\n",
    "print(f\"Model: {EMBEDDING_MODEL}\")\n",
    "print(f\"API Key: {'[CONFIGURED]' if API_KEY else '[MISSING - set in deployment]'}\")"
   ]
  },
  {
   "cell_type": "markdown",
   "metadata": {},
   "source": [
    "## 2. Load Data"
   ]
  },
  {
   "cell_type": "code",
   "execution_count": 4,
   "metadata": {},
   "outputs": [
    {
     "data": {
      "text/html": [
       "<div>\n",
       "<style scoped>\n",
       "    .dataframe tbody tr th:only-of-type {\n",
       "        vertical-align: middle;\n",
       "    }\n",
       "\n",
       "    .dataframe tbody tr th {\n",
       "        vertical-align: top;\n",
       "    }\n",
       "\n",
       "    .dataframe thead th {\n",
       "        text-align: right;\n",
       "    }\n",
       "</style>\n",
       "<table border=\"1\" class=\"dataframe\">\n",
       "  <thead>\n",
       "    <tr style=\"text-align: right;\">\n",
       "      <th></th>\n",
       "      <th>Frame_Description</th>\n",
       "      <th>Frame_Style</th>\n",
       "    </tr>\n",
       "  </thead>\n",
       "  <tbody>\n",
       "    <tr>\n",
       "      <th>0</th>\n",
       "      <td>limited edition frames (high-end) with premium...</td>\n",
       "      <td>Luxury</td>\n",
       "    </tr>\n",
       "    <tr>\n",
       "      <th>1</th>\n",
       "      <td>contemporary bold rectangular frames, ultra-li...</td>\n",
       "      <td>Modern</td>\n",
       "    </tr>\n",
       "    <tr>\n",
       "      <th>2</th>\n",
       "      <td>mixed material frames (bold) with seasonal col...</td>\n",
       "      <td>Fashion</td>\n",
       "    </tr>\n",
       "    <tr>\n",
       "      <th>3</th>\n",
       "      <td>wraparound frames (performance-oriented) with ...</td>\n",
       "      <td>Sporty</td>\n",
       "    </tr>\n",
       "    <tr>\n",
       "      <th>4</th>\n",
       "      <td>tortoiseshell frames (understated) with handcr...</td>\n",
       "      <td>Classic</td>\n",
       "    </tr>\n",
       "    <tr>\n",
       "      <th>5</th>\n",
       "      <td>swimming goggles (adventure-ready) with ventil...</td>\n",
       "      <td>Sporty</td>\n",
       "    </tr>\n",
       "    <tr>\n",
       "      <th>6</th>\n",
       "      <td>Designed for vintage-inspired needs: aviator f...</td>\n",
       "      <td>Vintage</td>\n",
       "    </tr>\n",
       "    <tr>\n",
       "      <th>7</th>\n",
       "      <td>contemporary angular frames, flexible hinges.</td>\n",
       "      <td>Modern</td>\n",
       "    </tr>\n",
       "    <tr>\n",
       "      <th>8</th>\n",
       "      <td>nostalgic aviator frames, period-correct sizin...</td>\n",
       "      <td>Vintage</td>\n",
       "    </tr>\n",
       "    <tr>\n",
       "      <th>9</th>\n",
       "      <td>Designed for classic revival needs: wayfarer f...</td>\n",
       "      <td>Vintage</td>\n",
       "    </tr>\n",
       "  </tbody>\n",
       "</table>\n",
       "</div>"
      ],
      "text/plain": [
       "                                   Frame_Description Frame_Style\n",
       "0  limited edition frames (high-end) with premium...      Luxury\n",
       "1  contemporary bold rectangular frames, ultra-li...      Modern\n",
       "2  mixed material frames (bold) with seasonal col...     Fashion\n",
       "3  wraparound frames (performance-oriented) with ...      Sporty\n",
       "4  tortoiseshell frames (understated) with handcr...     Classic\n",
       "5  swimming goggles (adventure-ready) with ventil...      Sporty\n",
       "6  Designed for vintage-inspired needs: aviator f...     Vintage\n",
       "7      contemporary angular frames, flexible hinges.      Modern\n",
       "8  nostalgic aviator frames, period-correct sizin...     Vintage\n",
       "9  Designed for classic revival needs: wayfarer f...     Vintage"
      ]
     },
     "execution_count": 4,
     "metadata": {},
     "output_type": "execute_result"
    }
   ],
   "source": [
    "# Load the synthetic electronics data\n",
    "\n",
    "df = pd.read_csv('../data/synthetic_eyeglass_frames_1k.csv')\n",
    "\n",
    "df.head(10)"
   ]
  },
  {
   "cell_type": "markdown",
   "metadata": {},
   "source": [
    "## 3. Connect to vLLM and Generate Embeddings"
   ]
  },
  {
   "cell_type": "code",
   "execution_count": 5,
   "metadata": {},
   "outputs": [],
   "source": [
    "# Create vLLM client\n",
    "client = create_vllm_client(ENDPOINT, EMBEDDING_MODEL, API_KEY)"
   ]
  },
  {
   "cell_type": "code",
   "execution_count": 7,
   "metadata": {},
   "outputs": [
    {
     "name": "stdout",
     "output_type": "stream",
     "text": [
      "🔄 Generating embeddings for 1000 descriptions...\n",
      "✅ Generated embeddings with shape: (1000, 1024)\n",
      "   - Embedding dimension: 1024\n"
     ]
    }
   ],
   "source": [
    "# Generate embeddings for part descriptions\n",
    "descriptions = df['Frame_Description'].tolist()\n",
    "print(f\"🔄 Generating embeddings for {len(descriptions)} descriptions...\")\n",
    "\n",
    "embeddings = get_embeddings(client, descriptions, EMBEDDING_MODEL)\n",
    "\n",
    "if embeddings:\n",
    "    X = np.array(embeddings)\n",
    "    print(f\"✅ Generated embeddings with shape: {X.shape}\")\n",
    "    print(f\"   - Embedding dimension: {X.shape[1]}\")\n",
    "else:\n",
    "    print(\"❌ Failed to generate embeddings\")\n",
    "    print(\"Check your vLLM endpoint and API key configuration\")"
   ]
  },
  {
   "cell_type": "markdown",
   "metadata": {},
   "source": [
    "## 4. Train KNN Classifier"
   ]
  },
  {
   "cell_type": "code",
   "execution_count": 8,
   "metadata": {},
   "outputs": [
    {
     "name": "stdout",
     "output_type": "stream",
     "text": [
      "📊 Dataset info:\n",
      "   - Total samples: 1000\n",
      "   - Number of countries: 8\n",
      "   - Countries: ['Classic', 'Fashion', 'Luxury', 'Modern', 'Professional', 'Sporty', 'Vintage', 'Youthful']\n"
     ]
    }
   ],
   "source": [
    "# Prepare labels\n",
    "label_encoder = LabelEncoder()\n",
    "y = label_encoder.fit_transform(df['Frame_Style'])\n",
    "class_names = label_encoder.classes_\n",
    "\n",
    "print(f\"📊 Dataset info:\")\n",
    "print(f\"   - Total samples: {len(X)}\")\n",
    "print(f\"   - Number of countries: {len(class_names)}\")\n",
    "print(f\"   - Countries: {list(class_names)}\")"
   ]
  },
  {
   "cell_type": "code",
   "execution_count": 9,
   "metadata": {},
   "outputs": [
    {
     "name": "stdout",
     "output_type": "stream",
     "text": [
      "Split data: 800 train, 200 test\n"
     ]
    }
   ],
   "source": [
    "# Split data for training and testing\n",
    "X_train, X_test, y_train, y_test = train_test_split(\n",
    "    X, y, test_size=0.2, random_state=42, stratify=y\n",
    ")\n",
    "print(f\"Split data: {len(X_train)} train, {len(X_test)} test\")\n"
   ]
  },
  {
   "cell_type": "code",
   "execution_count": 10,
   "metadata": {},
   "outputs": [
    {
     "name": "stdout",
     "output_type": "stream",
     "text": [
      "🤖 Training KNN classifier\n",
      "✅ KNN training complete\n"
     ]
    }
   ],
   "source": [
    "# Train KNN classifier\n",
    "knn = KNeighborsClassifier(n_neighbors=3)\n",
    "print(f\"🤖 Training KNN classifier\")\n",
    "knn.fit(X_train, y_train)\n",
    "print(\"✅ KNN training complete\")"
   ]
  },
  {
   "cell_type": "markdown",
   "metadata": {},
   "source": [
    "## 5. Evaluate Model"
   ]
  },
  {
   "cell_type": "code",
   "execution_count": 11,
   "metadata": {},
   "outputs": [
    {
     "name": "stdout",
     "output_type": "stream",
     "text": [
      "🎯 Model Performance:\n",
      "   - Accuracy: 98.0%\n"
     ]
    }
   ],
   "source": [
    "# Make predictions\n",
    "y_pred = knn.predict(X_test)\n",
    "accuracy = accuracy_score(y_test, y_pred)\n",
    "\n",
    "print(f\"🎯 Model Performance:\")\n",
    "print(f\"   - Accuracy: {accuracy:.1%}\")"
   ]
  },
  {
   "cell_type": "code",
   "execution_count": 12,
   "metadata": {},
   "outputs": [
    {
     "name": "stdout",
     "output_type": "stream",
     "text": [
      "\n",
      "📊 Detailed Classification Report:\n",
      "              precision    recall  f1-score   support\n",
      "\n",
      "     Classic       0.96      0.96      0.96        25\n",
      "     Fashion       1.00      1.00      1.00        24\n",
      "      Luxury       1.00      1.00      1.00        22\n",
      "      Modern       0.94      1.00      0.97        29\n",
      "Professional       0.95      0.86      0.90        22\n",
      "      Sporty       1.00      1.00      1.00        28\n",
      "     Vintage       1.00      1.00      1.00        23\n",
      "    Youthful       1.00      1.00      1.00        27\n",
      "\n",
      "    accuracy                           0.98       200\n",
      "   macro avg       0.98      0.98      0.98       200\n",
      "weighted avg       0.98      0.98      0.98       200\n",
      "\n"
     ]
    }
   ],
   "source": [
    "# Show detailed results\n",
    "print(\"\\n📊 Detailed Classification Report:\")\n",
    "print(classification_report(y_test, y_pred, target_names=class_names))"
   ]
  },
  {
   "cell_type": "markdown",
   "metadata": {},
   "source": [
    "## 6. Visualize Results"
   ]
  },
  {
   "cell_type": "code",
   "execution_count": 14,
   "metadata": {},
   "outputs": [
    {
     "data": {
      "image/png": "[encoded data removed]",
      "text/plain": [
       "<Figure size 800x600 with 2 Axes>"
      ]
     },
     "metadata": {},
     "output_type": "display_data"
    }
   ],
   "source": [
    "# Create confusion matrix\n",
    "if len(class_names) > 1:\n",
    "    cm = confusion_matrix(y_test, y_pred)\n",
    "    \n",
    "    plt.figure(figsize=(8, 6))\n",
    "    sns.heatmap(cm, annot=True, fmt='d', cmap='Blues',\n",
    "               xticklabels=class_names, yticklabels=class_names)\n",
    "    plt.title('Confusion Matrix - Frame Style Prediction')\n",
    "    plt.xlabel('Predicted Country')\n",
    "    plt.ylabel('Actual Country')\n",
    "    plt.xticks(rotation=45)\n",
    "    plt.tight_layout()\n",
    "    plt.show()\n",
    "else:\n",
    "    print(\"Skipping confusion matrix (only one class)\")"
   ]
  },
  {
   "cell_type": "code",
   "execution_count": 15,
   "metadata": {},
   "outputs": [
    {
     "name": "stdout",
     "output_type": "stream",
     "text": [
      "\n",
      "🔍 Sample Predictions:\n",
      "================================================================================\n",
      "\n",
      "Sample 1:\n",
      "Description: limited edition frames (high-end) with premium lens options features.\n",
      "Actual: Youthful\n",
      "Predicted: Youthful\n",
      "Result: ✅ Correct\n",
      "\n",
      "Sample 2:\n",
      "Description: contemporary bold rectangular frames, ultra-lightweight.\n",
      "Actual: Modern\n",
      "Predicted: Modern\n",
      "Result: ✅ Correct\n",
      "\n",
      "Sample 3:\n",
      "Description: mixed material frames (bold) with seasonal collections features.\n",
      "Actual: Classic\n",
      "Predicted: Classic\n",
      "Result: ✅ Correct\n",
      "\n",
      "Sample 4:\n",
      "Description: wraparound frames (performance-oriented) with ventilation system features.\n",
      "Actual: Professional\n",
      "Predicted: Professional\n",
      "Result: ✅ Correct\n",
      "\n",
      "Sample 5:\n",
      "Description: tortoiseshell frames (understated) with handcrafted details features.\n",
      "Actual: Vintage\n",
      "Predicted: Vintage\n",
      "Result: ✅ Correct\n"
     ]
    }
   ],
   "source": [
    "# Show sample predictions\n",
    "print(\"\\n🔍 Sample Predictions:\")\n",
    "print(\"=\" * 80)\n",
    "\n",
    "for i in range(min(len(X_test), 5)):\n",
    "    desc = descriptions[i] if i < len(descriptions) else \"Sample description\"\n",
    "    actual = class_names[y_test[i]]\n",
    "    predicted = class_names[y_pred[i]]\n",
    "    \n",
    "    print(f\"\\nSample {i+1}:\")\n",
    "    print(f\"Description: {desc[:100]}{'...' if len(desc) > 100 else ''}\")\n",
    "    print(f\"Actual: {actual}\")\n",
    "    print(f\"Predicted: {predicted}\")\n",
    "    print(f\"Result: {'✅ Correct' if actual == predicted else '❌ Incorrect'}\")"
   ]
  },
  {
   "cell_type": "markdown",
   "metadata": {},
   "source": [
    "## 7. Test with New Examples"
   ]
  },
  {
   "cell_type": "code",
   "execution_count": 27,
   "metadata": {},
   "outputs": [
    {
     "data": {
      "text/html": [
       "<div>\n",
       "<style scoped>\n",
       "    .dataframe tbody tr th:only-of-type {\n",
       "        vertical-align: middle;\n",
       "    }\n",
       "\n",
       "    .dataframe tbody tr th {\n",
       "        vertical-align: top;\n",
       "    }\n",
       "\n",
       "    .dataframe thead th {\n",
       "        text-align: right;\n",
       "    }\n",
       "</style>\n",
       "<table border=\"1\" class=\"dataframe\">\n",
       "  <thead>\n",
       "    <tr style=\"text-align: right;\">\n",
       "      <th></th>\n",
       "      <th>Frame_Description</th>\n",
       "    </tr>\n",
       "  </thead>\n",
       "  <tbody>\n",
       "    <tr>\n",
       "      <th>0</th>\n",
       "      <td>elegant round metal frames with thin wire cons...</td>\n",
       "    </tr>\n",
       "    <tr>\n",
       "      <th>1</th>\n",
       "      <td>contemporary geometric frames with ultra-light...</td>\n",
       "    </tr>\n",
       "    <tr>\n",
       "      <th>2</th>\n",
       "      <td>retro-inspired cat-eye frames with authentic p...</td>\n",
       "    </tr>\n",
       "    <tr>\n",
       "      <th>3</th>\n",
       "      <td>athletic wraparound frames with impact-resista...</td>\n",
       "    </tr>\n",
       "    <tr>\n",
       "      <th>4</th>\n",
       "      <td>premium titanium frames with precious metal co...</td>\n",
       "    </tr>\n",
       "    <tr>\n",
       "      <th>5</th>\n",
       "      <td>trendy oversized frames with vibrant color opt...</td>\n",
       "    </tr>\n",
       "    <tr>\n",
       "      <th>6</th>\n",
       "      <td>business-appropriate rectangular metal frames ...</td>\n",
       "    </tr>\n",
       "    <tr>\n",
       "      <th>7</th>\n",
       "      <td>fun bright colored frames with bright color op...</td>\n",
       "    </tr>\n",
       "    <tr>\n",
       "      <th>8</th>\n",
       "      <td>timeless oval acetate frames with thin wire co...</td>\n",
       "    </tr>\n",
       "    <tr>\n",
       "      <th>9</th>\n",
       "      <td>innovative semi-rimless frames with flexible h...</td>\n",
       "    </tr>\n",
       "  </tbody>\n",
       "</table>\n",
       "</div>"
      ],
      "text/plain": [
       "                                   Frame_Description\n",
       "0  elegant round metal frames with thin wire cons...\n",
       "1  contemporary geometric frames with ultra-light...\n",
       "2  retro-inspired cat-eye frames with authentic p...\n",
       "3  athletic wraparound frames with impact-resista...\n",
       "4  premium titanium frames with precious metal co...\n",
       "5  trendy oversized frames with vibrant color opt...\n",
       "6  business-appropriate rectangular metal frames ...\n",
       "7  fun bright colored frames with bright color op...\n",
       "8  timeless oval acetate frames with thin wire co...\n",
       "9  innovative semi-rimless frames with flexible h..."
      ]
     },
     "execution_count": 27,
     "metadata": {},
     "output_type": "execute_result"
    }
   ],
   "source": [
    "# Test with new part descriptions\n",
    "\n",
    "unseen_data = pd.read_csv('../data/unseen_eyeglass_frames.csv')\n",
    "\n",
    "unseen_data.head(10)"
   ]
  },
  {
   "cell_type": "code",
   "execution_count": 29,
   "metadata": {},
   "outputs": [
    {
     "name": "stdout",
     "output_type": "stream",
     "text": [
      "🧪 Testing with new examples:\n",
      "==================================================\n",
      "\n",
      "Test 1: elegant round metal frames with thin wire construction, adjustable nose pads, gold-plated construction.\n",
      "Predicted Style: Classic\n",
      "Confidence: 1.00\n",
      "\n",
      "Test 2: contemporary geometric frames with ultra-lightweight design, memory metal, minimalist design.\n",
      "Predicted Style: Modern\n",
      "Confidence: 1.00\n",
      "\n",
      "Test 3: retro-inspired cat-eye frames with authentic period details, hand-polished finish, vintage inspired upswept corners.\n",
      "Predicted Style: Vintage\n",
      "Confidence: 1.00\n",
      "\n",
      "Test 4: athletic wraparound frames with impact-resistant construction, UV protection, ventilation system.\n",
      "Predicted Style: Sporty\n",
      "Confidence: 1.00\n",
      "\n",
      "Test 5: premium titanium frames with precious metal construction, hand-engraved details, premium lens options.\n",
      "Predicted Style: Luxury\n",
      "Confidence: 1.00\n",
      "\n",
      "Test 6: trendy oversized frames with vibrant color options, statement piece, large lenses fashion forward.\n",
      "Predicted Style: Fashion\n",
      "Confidence: 1.00\n",
      "\n",
      "Test 7: business-appropriate rectangular metal frames with conservative sizing, neutral color palette, durable construction.\n",
      "Predicted Style: Professional\n",
      "Confidence: 1.00\n",
      "\n",
      "Test 8: fun bright colored frames with bright color options, lightweight materials, affordable pricing.\n",
      "Predicted Style: Youthful\n",
      "Confidence: 1.00\n",
      "\n",
      "Test 9: timeless oval acetate frames with thin wire construction, clear glossy finish, spring hinges.\n",
      "Predicted Style: Classic\n",
      "Confidence: 1.00\n",
      "\n",
      "Test 10: innovative semi-rimless frames with flexible hinges, ultra-lightweight, blue light filtering.\n",
      "Predicted Style: Modern\n",
      "Confidence: 1.00\n",
      "\n",
      "Test 11: vintage-inspired aviator frames with period-correct sizing, classic pilot style, double bridge metal construction.\n",
      "Predicted Style: Vintage\n",
      "Confidence: 1.00\n",
      "\n",
      "Test 12: luxury designer collaboration frames with exclusive design, custom fitting service, genuine leather accents.\n",
      "Predicted Style: Luxury\n",
      "Confidence: 1.00\n",
      "\n",
      "Test 13: professional wire frames with corporate styling, durable construction, medium wire silver-plated.\n",
      "Predicted Style: Professional\n",
      "Confidence: 1.00\n",
      "\n",
      "Test 14: youthful cartoon-inspired frames with fun patterns, lightweight materials, affordable pricing.\n",
      "Predicted Style: Youthful\n",
      "Confidence: 1.00\n",
      "\n",
      "Test 15: modern rimless frames with minimalist design, invisible frame, titanium screws.\n",
      "Predicted Style: Modern\n",
      "Confidence: 1.00\n",
      "\n",
      "Test 16: classic tortoiseshell frames with traditional styling, handcrafted details, tortoise brown matte finish.\n",
      "Predicted Style: Classic\n",
      "Confidence: 1.00\n",
      "\n",
      "Test 17: fashion-forward mixed material frames with decorative elements, patterned acetate, seasonal collections.\n",
      "Predicted Style: Fashion\n",
      "Confidence: 1.00\n",
      "\n",
      "Test 18: sporty cycling frames with performance-oriented design, impact-resistant, quick-release temples.\n",
      "Predicted Style: Sporty\n",
      "Confidence: 1.00\n",
      "\n",
      "Test 19: vintage browline frames with retro appeal, distinctive brow bar, metal brow bar acetate bottom.\n",
      "Predicted Style: Vintage\n",
      "Confidence: 1.00\n",
      "\n",
      "Test 20: luxury limited edition frames with prestigious design, custom fitting service, precious metal construction. \n",
      "Predicted Style: Luxury\n",
      "Confidence: 1.00\n"
     ]
    }
   ],
   "source": [
    "# Test with new part descriptions\n",
    "\n",
    "print(\"🧪 Testing with new examples:\")\n",
    "print(\"=\" * 50)\n",
    "\n",
    "# Generate embeddings for test descriptions\n",
    "unseen_descriptions = unseen_data['Frame_Description'].tolist()\n",
    "test_embeddings = get_embeddings(client, unseen_descriptions, EMBEDDING_MODEL)\n",
    "\n",
    "if test_embeddings:\n",
    "    test_X = np.array(test_embeddings)\n",
    "    test_predictions = knn.predict(test_X)\n",
    "    test_probabilities = knn.predict_proba(test_X)\n",
    "    \n",
    "    for i, desc in enumerate(unseen_descriptions):\n",
    "        predicted_frame_style = class_names[test_predictions[i]]\n",
    "        confidence = test_probabilities[i].max()\n",
    "        \n",
    "        print(f\"\\nTest {i+1}: {desc}\")\n",
    "        print(f\"Predicted Style: {predicted_frame_style}\")\n",
    "        print(f\"Confidence: {confidence:.2f}\")\n",
    "else:\n",
    "    print(\"❌ Failed to generate embeddings for test examples\")"
   ]
  },
  {
   "cell_type": "markdown",
   "metadata": {},
   "source": [
    "## Summary\n",
    "\n",
    "🎉 **Demo Complete!**\n",
    "\n",
    "This notebook demonstrates:\n",
    "- ✅ BGE-Large embeddings via vLLM API\n",
    "- ✅ KNN classification for country prediction\n",
    "- ✅ Model evaluation and visualization\n",
    "- ✅ Real-time inference with new examples\n",
    "\n",
    "The model uses semantic embeddings from transformer models to understand the relationship between frame descriptions and their likely style category."
   ]
  },
  {
   "cell_type": "code",
   "execution_count": null,
   "metadata": {},
   "outputs": [],
   "source": []
  }
 ],
 "metadata": {
  "kernelspec": {
   "display_name": "Python 3.11",
   "language": "python",
   "name": "python3"
  },
  "language_info": {
   "codemirror_mode": {
    "name": "ipython",
    "version": 3
   },
   "file_extension": ".py",
   "mimetype": "text/x-python",
   "name": "python",
   "nbconvert_exporter": "python",
   "pygments_lexer": "ipython3",
   "version": "3.11.11"
  }
 },
 "nbformat": 4,
 "nbformat_minor": 4
}
