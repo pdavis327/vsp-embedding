{
 "cells": [
  {
   "cell_type": "markdown",
   "metadata": {},
   "source": [
    "# Electronic Parts Country of Origin Prediction\n",
    "\n",
    "Simple demo using BGE-Large embeddings via vLLM and KNN classification."
   ]
  },
  {
   "cell_type": "markdown",
   "metadata": {},
   "source": [
    "## 1. Setup and Configuration"
   ]
  },
  {
   "cell_type": "code",
   "execution_count": 3,
   "metadata": {},
   "outputs": [
    {
     "name": "stdout",
     "output_type": "stream",
     "text": [
      "Requirement already satisfied: openai in /opt/app-root/lib64/python3.11/site-packages (1.91.0)\n",
      "Requirement already satisfied: anyio<5,>=3.5.0 in /opt/app-root/lib64/python3.11/site-packages (from openai) (4.9.0)\n",
      "Requirement already satisfied: distro<2,>=1.7.0 in /opt/app-root/lib64/python3.11/site-packages (from openai) (1.9.0)\n",
      "Requirement already satisfied: httpx<1,>=0.23.0 in /opt/app-root/lib64/python3.11/site-packages (from openai) (0.28.1)\n",
      "Requirement already satisfied: jiter<1,>=0.4.0 in /opt/app-root/lib64/python3.11/site-packages (from openai) (0.10.0)\n",
      "Requirement already satisfied: pydantic<3,>=1.9.0 in /opt/app-root/lib64/python3.11/site-packages (from openai) (1.10.21)\n",
      "Requirement already satisfied: sniffio in /opt/app-root/lib64/python3.11/site-packages (from openai) (1.3.1)\n",
      "Requirement already satisfied: tqdm>4 in /opt/app-root/lib64/python3.11/site-packages (from openai) (4.67.1)\n",
      "Requirement already satisfied: typing-extensions<5,>=4.11 in /opt/app-root/lib64/python3.11/site-packages (from openai) (4.12.2)\n",
      "Requirement already satisfied: idna>=2.8 in /opt/app-root/lib64/python3.11/site-packages (from anyio<5,>=3.5.0->openai) (3.10)\n",
      "Requirement already satisfied: certifi in /opt/app-root/lib64/python3.11/site-packages (from httpx<1,>=0.23.0->openai) (2025.1.31)\n",
      "Requirement already satisfied: httpcore==1.* in /opt/app-root/lib64/python3.11/site-packages (from httpx<1,>=0.23.0->openai) (1.0.7)\n",
      "Requirement already satisfied: h11<0.15,>=0.13 in /opt/app-root/lib64/python3.11/site-packages (from httpcore==1.*->httpx<1,>=0.23.0->openai) (0.14.0)\n",
      "\n",
      "\u001b[1m[\u001b[0m\u001b[34;49mnotice\u001b[0m\u001b[1;39;49m]\u001b[0m\u001b[39;49m A new release of pip is available: \u001b[0m\u001b[31;49m24.2\u001b[0m\u001b[39;49m -> \u001b[0m\u001b[32;49m25.1.1\u001b[0m\n",
      "\u001b[1m[\u001b[0m\u001b[34;49mnotice\u001b[0m\u001b[1;39;49m]\u001b[0m\u001b[39;49m To update, run: \u001b[0m\u001b[32;49mpip install --upgrade pip\u001b[0m\n",
      "Collecting seaborn\n",
      "  Downloading seaborn-0.13.2-py3-none-any.whl.metadata (5.4 kB)\n",
      "Requirement already satisfied: numpy!=1.24.0,>=1.20 in /opt/app-root/lib64/python3.11/site-packages (from seaborn) (2.2.3)\n",
      "Requirement already satisfied: pandas>=1.2 in /opt/app-root/lib64/python3.11/site-packages (from seaborn) (2.2.3)\n",
      "Requirement already satisfied: matplotlib!=3.6.1,>=3.4 in /opt/app-root/lib64/python3.11/site-packages (from seaborn) (3.10.1)\n",
      "Requirement already satisfied: contourpy>=1.0.1 in /opt/app-root/lib64/python3.11/site-packages (from matplotlib!=3.6.1,>=3.4->seaborn) (1.3.1)\n",
      "Requirement already satisfied: cycler>=0.10 in /opt/app-root/lib64/python3.11/site-packages (from matplotlib!=3.6.1,>=3.4->seaborn) (0.12.1)\n",
      "Requirement already satisfied: fonttools>=4.22.0 in /opt/app-root/lib64/python3.11/site-packages (from matplotlib!=3.6.1,>=3.4->seaborn) (4.56.0)\n",
      "Requirement already satisfied: kiwisolver>=1.3.1 in /opt/app-root/lib64/python3.11/site-packages (from matplotlib!=3.6.1,>=3.4->seaborn) (1.4.8)\n",
      "Requirement already satisfied: packaging>=20.0 in /opt/app-root/lib64/python3.11/site-packages (from matplotlib!=3.6.1,>=3.4->seaborn) (24.2)\n",
      "Requirement already satisfied: pillow>=8 in /opt/app-root/lib64/python3.11/site-packages (from matplotlib!=3.6.1,>=3.4->seaborn) (11.1.0)\n",
      "Requirement already satisfied: pyparsing>=2.3.1 in /opt/app-root/lib64/python3.11/site-packages (from matplotlib!=3.6.1,>=3.4->seaborn) (3.2.1)\n",
      "Requirement already satisfied: python-dateutil>=2.7 in /opt/app-root/lib64/python3.11/site-packages (from matplotlib!=3.6.1,>=3.4->seaborn) (2.9.0.post0)\n",
      "Requirement already satisfied: pytz>=2020.1 in /opt/app-root/lib64/python3.11/site-packages (from pandas>=1.2->seaborn) (2025.1)\n",
      "Requirement already satisfied: tzdata>=2022.7 in /opt/app-root/lib64/python3.11/site-packages (from pandas>=1.2->seaborn) (2025.1)\n",
      "Requirement already satisfied: six>=1.5 in /opt/app-root/lib64/python3.11/site-packages (from python-dateutil>=2.7->matplotlib!=3.6.1,>=3.4->seaborn) (1.17.0)\n",
      "Downloading seaborn-0.13.2-py3-none-any.whl (294 kB)\n",
      "Installing collected packages: seaborn\n",
      "Successfully installed seaborn-0.13.2\n",
      "\n",
      "\u001b[1m[\u001b[0m\u001b[34;49mnotice\u001b[0m\u001b[1;39;49m]\u001b[0m\u001b[39;49m A new release of pip is available: \u001b[0m\u001b[31;49m24.2\u001b[0m\u001b[39;49m -> \u001b[0m\u001b[32;49m25.1.1\u001b[0m\n",
      "\u001b[1m[\u001b[0m\u001b[34;49mnotice\u001b[0m\u001b[1;39;49m]\u001b[0m\u001b[39;49m To update, run: \u001b[0m\u001b[32;49mpip install --upgrade pip\u001b[0m\n"
     ]
    }
   ],
   "source": [
    "!pip install openai\n",
    "!pip install seaborn"
   ]
  },
  {
   "cell_type": "code",
   "execution_count": 20,
   "metadata": {},
   "outputs": [],
   "source": [
    "import os\n",
    "import pandas as pd\n",
    "import numpy as np\n",
    "from sklearn.preprocessing import LabelEncoder\n",
    "from sklearn.model_selection import train_test_split\n",
    "from sklearn.neighbors import KNeighborsClassifier\n",
    "from sklearn.metrics import accuracy_score, confusion_matrix, classification_report\n",
    "import sys\n",
    "# from dotenv import load_dotenv\n",
    "import matplotlib.pyplot as plt\n",
    "import seaborn as sns\n",
    "# load_dotenv()\n",
    "sys.path.append('../utils/')\n",
    "from vllm_client import create_vllm_client, get_embeddings"
   ]
  },
  {
   "cell_type": "code",
   "execution_count": 21,
   "metadata": {},
   "outputs": [
    {
     "name": "stdout",
     "output_type": "stream",
     "text": [
      "Endpoint: https://bge-large-arrow-embedding.apps.cluster-5qlcr.5qlcr.sandbox1342.opentlc.com\n",
      "Model: bge-large\n",
      "API Key: [CONFIGURED]\n"
     ]
    }
   ],
   "source": [
    "# Configuration - your vLLM details are set via environment variables\n",
    "# These are automatically configured by the workbench deployment\n",
    "\n",
    "ENDPOINT = os.getenv('ENDPOINT')\n",
    "EMBEDDING_MODEL = os.getenv('EMBEDDING_MODEL')\n",
    "API_KEY = os.getenv('API_KEY')\n",
    "\n",
    "print(f\"Endpoint: {ENDPOINT}\")\n",
    "print(f\"Model: {EMBEDDING_MODEL}\")\n",
    "print(f\"API Key: {'[CONFIGURED]' if API_KEY else '[MISSING - set in deployment]'}\")"
   ]
  },
  {
   "cell_type": "markdown",
   "metadata": {},
   "source": [
    "## 2. Load Data"
   ]
  },
  {
   "cell_type": "code",
   "execution_count": 23,
   "metadata": {},
   "outputs": [
    {
     "data": {
      "text/html": [
       "<div>\n",
       "<style scoped>\n",
       "    .dataframe tbody tr th:only-of-type {\n",
       "        vertical-align: middle;\n",
       "    }\n",
       "\n",
       "    .dataframe tbody tr th {\n",
       "        vertical-align: top;\n",
       "    }\n",
       "\n",
       "    .dataframe thead th {\n",
       "        text-align: right;\n",
       "    }\n",
       "</style>\n",
       "<table border=\"1\" class=\"dataframe\">\n",
       "  <thead>\n",
       "    <tr style=\"text-align: right;\">\n",
       "      <th></th>\n",
       "      <th>Part_Description</th>\n",
       "      <th>Country_Of_Origin</th>\n",
       "    </tr>\n",
       "  </thead>\n",
       "  <tbody>\n",
       "    <tr>\n",
       "      <th>0</th>\n",
       "      <td>A industrial standard resistor for standard ap...</td>\n",
       "      <td>China</td>\n",
       "    </tr>\n",
       "    <tr>\n",
       "      <th>1</th>\n",
       "      <td>Manufactured for standard needs: PCB with thro...</td>\n",
       "      <td>China</td>\n",
       "    </tr>\n",
       "    <tr>\n",
       "      <th>2</th>\n",
       "      <td>high-bandwidth OLED panel, compact design.gree...</td>\n",
       "      <td>South Korea</td>\n",
       "    </tr>\n",
       "    <tr>\n",
       "      <th>3</th>\n",
       "      <td>precision-engineered sensor (industrial), cert...</td>\n",
       "      <td>Germany</td>\n",
       "    </tr>\n",
       "    <tr>\n",
       "      <th>4</th>\n",
       "      <td>A certified relay (industrial) for precision-e...</td>\n",
       "      <td>Germany</td>\n",
       "    </tr>\n",
       "    <tr>\n",
       "      <th>5</th>\n",
       "      <td>processor (advanced) with high-resolution feat...</td>\n",
       "      <td>South Korea</td>\n",
       "    </tr>\n",
       "    <tr>\n",
       "      <th>6</th>\n",
       "      <td>mass-produced LED, industrial standard.green SMD.</td>\n",
       "      <td>China</td>\n",
       "    </tr>\n",
       "    <tr>\n",
       "      <th>7</th>\n",
       "      <td>A AI-enabled display panel components for inte...</td>\n",
       "      <td>Taiwan</td>\n",
       "    </tr>\n",
       "    <tr>\n",
       "      <th>8</th>\n",
       "      <td>innovative power management IC, compact.voltag...</td>\n",
       "      <td>Taiwan</td>\n",
       "    </tr>\n",
       "    <tr>\n",
       "      <th>9</th>\n",
       "      <td>A component-level sensor assembly for discrete...</td>\n",
       "      <td>Malaysia</td>\n",
       "    </tr>\n",
       "  </tbody>\n",
       "</table>\n",
       "</div>"
      ],
      "text/plain": [
       "                                    Part_Description Country_Of_Origin\n",
       "0  A industrial standard resistor for standard ap...             China\n",
       "1  Manufactured for standard needs: PCB with thro...             China\n",
       "2  high-bandwidth OLED panel, compact design.gree...       South Korea\n",
       "3  precision-engineered sensor (industrial), cert...           Germany\n",
       "4  A certified relay (industrial) for precision-e...           Germany\n",
       "5  processor (advanced) with high-resolution feat...       South Korea\n",
       "6  mass-produced LED, industrial standard.green SMD.             China\n",
       "7  A AI-enabled display panel components for inte...            Taiwan\n",
       "8  innovative power management IC, compact.voltag...            Taiwan\n",
       "9  A component-level sensor assembly for discrete...          Malaysia"
      ]
     },
     "execution_count": 23,
     "metadata": {},
     "output_type": "execute_result"
    }
   ],
   "source": [
    "# Load the synthetic electronics data\n",
    "\n",
    "df = pd.read_csv('../data/synthetic_electronics_parts_1k.csv')\n",
    "\n",
    "df.head(10)"
   ]
  },
  {
   "cell_type": "markdown",
   "metadata": {},
   "source": [
    "## 3. Connect to vLLM and Generate Embeddings"
   ]
  },
  {
   "cell_type": "code",
   "execution_count": 24,
   "metadata": {},
   "outputs": [],
   "source": [
    "# Create vLLM client\n",
    "client = create_vllm_client(ENDPOINT, EMBEDDING_MODEL, API_KEY)"
   ]
  },
  {
   "cell_type": "code",
   "execution_count": 25,
   "metadata": {},
   "outputs": [
    {
     "name": "stdout",
     "output_type": "stream",
     "text": [
      "🔄 Generating embeddings for 1000 descriptions...\n",
      "✅ Generated embeddings with shape: (1000, 1024)\n",
      "   - Embedding dimension: 1024\n"
     ]
    }
   ],
   "source": [
    "# Generate embeddings for part descriptions\n",
    "descriptions = df['Part_Description'].tolist()\n",
    "print(f\"🔄 Generating embeddings for {len(descriptions)} descriptions...\")\n",
    "\n",
    "embeddings = get_embeddings(client, descriptions, EMBEDDING_MODEL)\n",
    "\n",
    "if embeddings:\n",
    "    X = np.array(embeddings)\n",
    "    print(f\"✅ Generated embeddings with shape: {X.shape}\")\n",
    "    print(f\"   - Embedding dimension: {X.shape[1]}\")\n",
    "else:\n",
    "    print(\"❌ Failed to generate embeddings\")\n",
    "    print(\"Check your vLLM endpoint and API key configuration\")"
   ]
  },
  {
   "cell_type": "markdown",
   "metadata": {},
   "source": [
    "## 4. Train KNN Classifier"
   ]
  },
  {
   "cell_type": "code",
   "execution_count": 26,
   "metadata": {},
   "outputs": [
    {
     "name": "stdout",
     "output_type": "stream",
     "text": [
      "📊 Dataset info:\n",
      "   - Total samples: 1000\n",
      "   - Number of countries: 8\n",
      "   - Countries: ['China', 'Germany', 'Japan', 'Malaysia', 'South Korea', 'Taiwan', 'USA', 'Vietnam']\n"
     ]
    }
   ],
   "source": [
    "# Prepare labels\n",
    "label_encoder = LabelEncoder()\n",
    "y = label_encoder.fit_transform(df['Country_Of_Origin'])\n",
    "class_names = label_encoder.classes_\n",
    "\n",
    "print(f\"📊 Dataset info:\")\n",
    "print(f\"   - Total samples: {len(X)}\")\n",
    "print(f\"   - Number of countries: {len(class_names)}\")\n",
    "print(f\"   - Countries: {list(class_names)}\")"
   ]
  },
  {
   "cell_type": "code",
   "execution_count": 27,
   "metadata": {},
   "outputs": [
    {
     "name": "stdout",
     "output_type": "stream",
     "text": [
      "Split data: 800 train, 200 test\n"
     ]
    }
   ],
   "source": [
    "# Split data for training and testing\n",
    "X_train, X_test, y_train, y_test = train_test_split(\n",
    "    X, y, test_size=0.2, random_state=42, stratify=y\n",
    ")\n",
    "print(f\"Split data: {len(X_train)} train, {len(X_test)} test\")\n"
   ]
  },
  {
   "cell_type": "code",
   "execution_count": 28,
   "metadata": {},
   "outputs": [
    {
     "name": "stdout",
     "output_type": "stream",
     "text": [
      "🤖 Training KNN classifier\n",
      "✅ KNN training complete\n"
     ]
    }
   ],
   "source": [
    "# Train KNN classifier\n",
    "knn = KNeighborsClassifier(n_neighbors=3)\n",
    "print(f\"🤖 Training KNN classifier\")\n",
    "knn.fit(X_train, y_train)\n",
    "print(\"✅ KNN training complete\")"
   ]
  },
  {
   "cell_type": "markdown",
   "metadata": {},
   "source": [
    "## 5. Evaluate Model"
   ]
  },
  {
   "cell_type": "code",
   "execution_count": 29,
   "metadata": {},
   "outputs": [
    {
     "name": "stdout",
     "output_type": "stream",
     "text": [
      "🎯 Model Performance:\n",
      "   - Accuracy: 95.0%\n"
     ]
    }
   ],
   "source": [
    "# Make predictions\n",
    "y_pred = knn.predict(X_test)\n",
    "accuracy = accuracy_score(y_test, y_pred)\n",
    "\n",
    "print(f\"🎯 Model Performance:\")\n",
    "print(f\"   - Accuracy: {accuracy:.1%}\")"
   ]
  },
  {
   "cell_type": "code",
   "execution_count": 30,
   "metadata": {},
   "outputs": [
    {
     "name": "stdout",
     "output_type": "stream",
     "text": [
      "\n",
      "📊 Detailed Classification Report:\n",
      "              precision    recall  f1-score   support\n",
      "\n",
      "       China       1.00      0.83      0.91        24\n",
      "     Germany       0.89      1.00      0.94        25\n",
      "       Japan       1.00      1.00      1.00        26\n",
      "    Malaysia       0.85      1.00      0.92        23\n",
      " South Korea       1.00      1.00      1.00        27\n",
      "      Taiwan       0.96      0.93      0.95        28\n",
      "         USA       0.91      0.83      0.87        24\n",
      "     Vietnam       1.00      1.00      1.00        23\n",
      "\n",
      "    accuracy                           0.95       200\n",
      "   macro avg       0.95      0.95      0.95       200\n",
      "weighted avg       0.95      0.95      0.95       200\n",
      "\n"
     ]
    }
   ],
   "source": [
    "# Show detailed results\n",
    "print(\"\\n📊 Detailed Classification Report:\")\n",
    "print(classification_report(y_test, y_pred, target_names=class_names))"
   ]
  },
  {
   "cell_type": "markdown",
   "metadata": {},
   "source": [
    "## 6. Visualize Results"
   ]
  },
  {
   "cell_type": "code",
   "execution_count": 31,
   "metadata": {},
   "outputs": [
    {
     "data": {
      "image/png": "[encoded data removed]",
      "text/plain": [
       "<Figure size 800x600 with 2 Axes>"
      ]
     },
     "metadata": {},
     "output_type": "display_data"
    }
   ],
   "source": [
    "# Create confusion matrix\n",
    "if len(class_names) > 1:\n",
    "    cm = confusion_matrix(y_test, y_pred)\n",
    "    \n",
    "    plt.figure(figsize=(8, 6))\n",
    "    sns.heatmap(cm, annot=True, fmt='d', cmap='Blues',\n",
    "               xticklabels=class_names, yticklabels=class_names)\n",
    "    plt.title('Confusion Matrix - Country of Origin Prediction')\n",
    "    plt.xlabel('Predicted Country')\n",
    "    plt.ylabel('Actual Country')\n",
    "    plt.xticks(rotation=45)\n",
    "    plt.tight_layout()\n",
    "    plt.show()\n",
    "else:\n",
    "    print(\"Skipping confusion matrix (only one class)\")"
   ]
  },
  {
   "cell_type": "code",
   "execution_count": 32,
   "metadata": {},
   "outputs": [
    {
     "name": "stdout",
     "output_type": "stream",
     "text": [
      "\n",
      "🔍 Sample Predictions:\n",
      "================================================================================\n",
      "\n",
      "Sample 1:\n",
      "Description: A industrial standard resistor for standard applications.220 ohm 0.1% tolerance, 0603.\n",
      "Actual: Vietnam\n",
      "Predicted: Vietnam\n",
      "Result: ✅ Correct\n",
      "\n",
      "Sample 2:\n",
      "Description: Manufactured for standard needs: PCB with through-hole.\n",
      "Actual: Malaysia\n",
      "Predicted: Malaysia\n",
      "Result: ✅ Correct\n",
      "\n",
      "Sample 3:\n",
      "Description: high-bandwidth OLED panel, compact design.green 0805.\n",
      "Actual: China\n",
      "Predicted: China\n",
      "Result: ✅ Correct\n",
      "\n",
      "Sample 4:\n",
      "Description: precision-engineered sensor (industrial), certified.pressure analog output.\n",
      "Actual: South Korea\n",
      "Predicted: South Korea\n",
      "Result: ✅ Correct\n",
      "\n",
      "Sample 5:\n",
      "Description: A certified relay (industrial) for precision-engineered applications.\n",
      "Actual: USA\n",
      "Predicted: USA\n",
      "Result: ✅ Correct\n"
     ]
    }
   ],
   "source": [
    "# Show sample predictions\n",
    "print(\"\\n🔍 Sample Predictions:\")\n",
    "print(\"=\" * 80)\n",
    "\n",
    "for i in range(min(len(X_test), 5)):\n",
    "    desc = descriptions[i] if i < len(descriptions) else \"Sample description\"\n",
    "    actual = class_names[y_test[i]]\n",
    "    predicted = class_names[y_pred[i]]\n",
    "    \n",
    "    print(f\"\\nSample {i+1}:\")\n",
    "    print(f\"Description: {desc[:100]}{'...' if len(desc) > 100 else ''}\")\n",
    "    print(f\"Actual: {actual}\")\n",
    "    print(f\"Predicted: {predicted}\")\n",
    "    print(f\"Result: {'✅ Correct' if actual == predicted else '❌ Incorrect'}\")"
   ]
  },
  {
   "cell_type": "markdown",
   "metadata": {},
   "source": [
    "## 7. Test with New Examples"
   ]
  },
  {
   "cell_type": "code",
   "execution_count": 33,
   "metadata": {},
   "outputs": [
    {
     "name": "stdout",
     "output_type": "stream",
     "text": [
      "🧪 Testing with new examples:\n",
      "==================================================\n",
      "\n",
      "Test 1: high-frequency RF transistor for mobile communication systems\n",
      "Predicted Country: USA\n",
      "Confidence: 1.00\n",
      "\n",
      "Test 2: robust power MOSFET for electric vehicle inverters\n",
      "Predicted Country: Germany\n",
      "Confidence: 1.00\n",
      "\n",
      "Test 3: miniature MEMS accelerometer for wearable fitness trackers\n",
      "Predicted Country: Germany\n",
      "Confidence: 0.33\n",
      "\n",
      "Test 4: radiation-hardened FPGA for aerospace applications\n",
      "Predicted Country: USA\n",
      "Confidence: 1.00\n",
      "\n",
      "Test 5: multi-layer ceramic inductor for high-efficiency DC-DC converters\n",
      "Predicted Country: Japan\n",
      "Confidence: 1.00\n",
      "\n",
      "Test 6: ultra-low-power Bluetooth SoC for IoT smart home devices\n",
      "Predicted Country: Taiwan\n",
      "Confidence: 1.00\n",
      "\n",
      "Test 7: thermally stable voltage regulator for telecom base stations\n",
      "Predicted Country: Taiwan\n",
      "Confidence: 0.67\n",
      "\n",
      "Test 8: automated LiDAR module for autonomous delivery drones\n",
      "Predicted Country: Japan\n",
      "Confidence: 1.00\n",
      "\n",
      "Test 9: waterproof piezoelectric buzzer for marine instrumentation\n",
      "Predicted Country: Germany\n",
      "Confidence: 0.67\n",
      "\n",
      "Test 10: energy-harvesting rectifier circuit for remote sensors\n",
      "Predicted Country: Taiwan\n",
      "Confidence: 0.67\n"
     ]
    }
   ],
   "source": [
    "# Test with new part descriptions\n",
    "test_descriptions = [\n",
    "    \"high-frequency RF transistor for mobile communication systems\",\n",
    "    \"robust power MOSFET for electric vehicle inverters\",\n",
    "    \"miniature MEMS accelerometer for wearable fitness trackers\",\n",
    "    \"radiation-hardened FPGA for aerospace applications\",\n",
    "    \"multi-layer ceramic inductor for high-efficiency DC-DC converters\",\n",
    "    \"ultra-low-power Bluetooth SoC for IoT smart home devices\",\n",
    "    \"thermally stable voltage regulator for telecom base stations\",\n",
    "    \"automated LiDAR module for autonomous delivery drones\",\n",
    "    \"waterproof piezoelectric buzzer for marine instrumentation\",\n",
    "    \"energy-harvesting rectifier circuit for remote sensors\"\n",
    "]\n",
    "\n",
    "print(\"🧪 Testing with new examples:\")\n",
    "print(\"=\" * 50)\n",
    "\n",
    "# Generate embeddings for test descriptions\n",
    "test_embeddings = get_embeddings(client, test_descriptions, EMBEDDING_MODEL)\n",
    "\n",
    "if test_embeddings:\n",
    "    test_X = np.array(test_embeddings)\n",
    "    test_predictions = knn.predict(test_X)\n",
    "    test_probabilities = knn.predict_proba(test_X)\n",
    "    \n",
    "    for i, desc in enumerate(test_descriptions):\n",
    "        predicted_country = class_names[test_predictions[i]]\n",
    "        confidence = test_probabilities[i].max()\n",
    "        \n",
    "        print(f\"\\nTest {i+1}: {desc}\")\n",
    "        print(f\"Predicted Country: {predicted_country}\")\n",
    "        print(f\"Confidence: {confidence:.2f}\")\n",
    "else:\n",
    "    print(\"❌ Failed to generate embeddings for test examples\")"
   ]
  },
  {
   "cell_type": "markdown",
   "metadata": {},
   "source": [
    "## Summary\n",
    "\n",
    "🎉 **Demo Complete!**\n",
    "\n",
    "This notebook demonstrates:\n",
    "- ✅ BGE-Large embeddings via vLLM API\n",
    "- ✅ KNN classification for country prediction\n",
    "- ✅ Model evaluation and visualization\n",
    "- ✅ Real-time inference with new examples\n",
    "\n",
    "The model uses semantic embeddings from transformer models to understand the relationship between part descriptions and their likely countries of origin."
   ]
  },
  {
   "cell_type": "code",
   "execution_count": null,
   "metadata": {},
   "outputs": [],
   "source": []
  }
 ],
 "metadata": {
  "kernelspec": {
   "display_name": "Python 3.11",
   "language": "python",
   "name": "python3"
  },
  "language_info": {
   "codemirror_mode": {
    "name": "ipython",
    "version": 3
   },
   "file_extension": ".py",
   "mimetype": "text/x-python",
   "name": "python",
   "nbconvert_exporter": "python",
   "pygments_lexer": "ipython3",
   "version": "3.11.9"
  }
 },
 "nbformat": 4,
 "nbformat_minor": 4
}
